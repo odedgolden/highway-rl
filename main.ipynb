{
 "cells": [
  {
   "cell_type": "code",
   "execution_count": 1,
   "id": "ef031375-6aff-4b99-9b07-37c576f92e38",
   "metadata": {},
   "outputs": [],
   "source": [
    "# !pip install highway-env\n",
    "# !pip install git+https://github.com/DLR-RM/stable-baselines3\n",
    "# !pip install tensorboardx gym pyvirtualdisplay\n",
    "# !apt-get install -y xvfb python-opengl ffmpeg\n",
    "# !git clone https://github.com/eleurent/highway-env.git 2> /dev/null\n",
    "# !git clone https://github.com/avivg7/highway-config.git\n",
    "# !pip install tensorboard\n",
    "# !pip install xvfbwrapper"
   ]
  },
  {
   "cell_type": "code",
   "execution_count": 1,
   "id": "72c2a559-404e-4a2d-b709-a65972057e75",
   "metadata": {},
   "outputs": [
    {
     "name": "stderr",
     "output_type": "stream",
     "text": [
      "/opt/conda/lib/python3.7/site-packages/cffi/cparser.py:165: UserWarning: Global variable 'stderr' in cdef(): for consistency with C it should have a storage class specifier (usually 'extern')\n",
      "  \"(usually 'extern')\" % (decl.name,))\n",
      "/opt/conda/lib/python3.7/site-packages/cffi/cparser.py:165: UserWarning: Global variable '__stderrp' in cdef(): for consistency with C it should have a storage class specifier (usually 'extern')\n",
      "  \"(usually 'extern')\" % (decl.name,))\n"
     ]
    }
   ],
   "source": [
    "from cffi import FFI\n",
    "import os\n",
    "\n",
    "ffi = FFI()\n",
    "ffi.cdef(\"\"\"\n",
    "/* from stdio.h */\n",
    "FILE* fopen(const char* path, const char* mode);\n",
    "int fclose(FILE* fp);\n",
    "FILE* stderr;  /* GNU C library */\n",
    "FILE* __stderrp;  /* Mac OS X */\n",
    "\"\"\")\n",
    "try:\n",
    "    stdio = ffi.dlopen(None)\n",
    "    devnull = stdio.fopen(os.devnull.encode(), b'w')\n",
    "except OSError:\n",
    "    pass\n",
    "try:\n",
    "    stdio.stderr = devnull\n",
    "except KeyError:\n",
    "    try:\n",
    "        stdio.__stderrp = devnull\n",
    "    except KeyError:\n",
    "        stdio.fclose(devnull)"
   ]
  },
  {
   "cell_type": "code",
   "execution_count": 2,
   "id": "d6779162-b029-4026-b66d-cb325698adea",
   "metadata": {},
   "outputs": [
    {
     "name": "stdout",
     "output_type": "stream",
     "text": [
      "pygame 2.1.2 (SDL 2.0.16, Python 3.7.12)\n",
      "Hello from the pygame community. https://www.pygame.org/contribute.html\n"
     ]
    },
    {
     "name": "stderr",
     "output_type": "stream",
     "text": [
      "/opt/conda/lib/python3.7/site-packages/tqdm/auto.py:22: TqdmWarning: IProgress not found. Please update jupyter and ipywidgets. See https://ipywidgets.readthedocs.io/en/stable/user_install.html\n",
      "  from .autonotebook import tqdm as notebook_tqdm\n"
     ]
    }
   ],
   "source": [
    "# General\n",
    "import sys\n",
    "sys.path.insert(0, '/content/highway-env/scripts/')\n",
    "import io\n",
    "import base64\n",
    "import os\n",
    "from tqdm.notebook import trange\n",
    "import numpy as np\n",
    "import random\n",
    "import math\n",
    "import pygame\n",
    "import json\n",
    "import ast\n",
    "from pprint import pprint \n",
    "import glob\n",
    "from collections import Counter\n",
    "\n",
    "# Local\n",
    "from final_project.display_utils import wrap_env, show_video\n",
    "from models.agent import Agent\n",
    "from models.utils import plot_learning_curve\n",
    "\n",
    "# Gym Env\n",
    "import gym\n",
    "import highway_env\n",
    "# from utils import record_videos, show_videos\n",
    "from gym import logger as gymlogger\n",
    "from gym.wrappers import Monitor\n",
    "from gym.utils import seeding\n",
    "from gym import error, spaces, utils\n",
    "gymlogger.set_level(40) # error only\n",
    "\n",
    "# Neural Networks\n",
    "import torch\n",
    "import torch.nn as nn\n",
    "import torch.nn.functional as F\n",
    "import torch.optim as optim\n",
    "from torch.distributions import Categorical\n",
    "\n",
    "# Visualization\n",
    "import matplotlib.pyplot as plt\n",
    "from pyvirtualdisplay import Display\n",
    "from IPython.display import HTML\n",
    "from IPython import display as ipythondisplay\n",
    "\n",
    "%load_ext tensorboard\n",
    "%matplotlib inline"
   ]
  },
  {
   "cell_type": "code",
   "execution_count": 3,
   "id": "5e7aeeb5-bfd6-4abe-9ba1-10781109dbb0",
   "metadata": {},
   "outputs": [],
   "source": [
    "display = Display(visible=0, size=(1400, 900))\n",
    "display.start()\n",
    "\n",
    "if type(os.environ.get(\"DISPLAY\")) is not str or len(os.environ.get(\"DISPLAY\"))==0:\n",
    "    !bash ../xvfb start\n",
    "    %env DISPLAY=:1"
   ]
  },
  {
   "cell_type": "code",
   "execution_count": 4,
   "id": "ff54115e-c798-4170-883e-01bc0a09e452",
   "metadata": {},
   "outputs": [],
   "source": [
    "# #=============== DO NOT DELETE ===============\n",
    "# file = open('./highway-config/config_ex1.txt', 'r')\n",
    "# contents = file.read()\n",
    "# config1 = ast.literal_eval(contents)\n",
    "# file.close()\n",
    "# # ============================================\n",
    "\n",
    "# env = gym.make(\"highway-fast-v0\")\n",
    "# env.configure(config1)\n",
    "\n",
    "# obs = env.reset()\n",
    "# for j in range(10):\n",
    "#     obs, _, _, _ = env.step(0)\n",
    "\n",
    "#     _, axes = plt.subplots(ncols=4, figsize=(12, 5))\n",
    "#     for i, ax in enumerate(axes.flat):\n",
    "#         ax.imshow(obs[i, ...].T, cmap=plt.get_cmap('gray'))\n",
    "    \n",
    "\n",
    "# env = wrap_env(env)\n",
    "# env.reset()\n",
    "# done = False\n",
    "# iter = 0\n",
    "\n",
    "# while (iter < 10) or not done:\n",
    "#   if done:\n",
    "#     break\n",
    "#   iter +=1\n",
    "#   action = env.action_space.sample()\n",
    "#   observation, reward, done, _ = env.step(action)\n",
    "#   screen = env.render(mode='rgb_array')\n",
    "#   plt.imshow(screen)\n",
    "#   print(f'iteration: {iter}, action: {action}, reward: {reward}, done: {done}')"
   ]
  },
  {
   "cell_type": "code",
   "execution_count": 5,
   "id": "7a794abc-5326-49a0-b30f-f3cd6e9d40d8",
   "metadata": {},
   "outputs": [
    {
     "data": {
      "text/plain": [
       "True"
      ]
     },
     "execution_count": 5,
     "metadata": {},
     "output_type": "execute_result"
    }
   ],
   "source": [
    "torch.cuda.is_available()"
   ]
  },
  {
   "cell_type": "code",
   "execution_count": 6,
   "id": "3c18e2d7-f457-4c3a-b84e-fb851f1cf429",
   "metadata": {},
   "outputs": [
    {
     "data": {
      "text/plain": [
       "array([[[ 0.,  0.,  0., ...,  0.,  0.,  0.],\n",
       "        [ 0.,  0.,  0., ...,  0.,  0.,  0.],\n",
       "        [ 0.,  0.,  0., ...,  0.,  0.,  0.],\n",
       "        ...,\n",
       "        [ 0.,  0.,  0., ...,  0.,  0.,  0.],\n",
       "        [ 0.,  0.,  0., ...,  0.,  0.,  0.],\n",
       "        [ 0.,  0.,  0., ...,  0.,  0.,  0.]],\n",
       "\n",
       "       [[ 0.,  0.,  0., ...,  0.,  0.,  0.],\n",
       "        [ 0.,  0.,  0., ...,  0.,  0.,  0.],\n",
       "        [ 0.,  0.,  0., ...,  0.,  0.,  0.],\n",
       "        ...,\n",
       "        [ 0.,  0.,  0., ...,  0.,  0.,  0.],\n",
       "        [ 0.,  0.,  0., ...,  0.,  0.,  0.],\n",
       "        [ 0.,  0.,  0., ...,  0.,  0.,  0.]],\n",
       "\n",
       "       [[ 0.,  0.,  0., ...,  0.,  0.,  0.],\n",
       "        [ 0.,  0.,  0., ...,  0.,  0.,  0.],\n",
       "        [ 0.,  0.,  0., ...,  0.,  0.,  0.],\n",
       "        ...,\n",
       "        [ 0.,  0.,  0., ...,  0.,  0.,  0.],\n",
       "        [ 0.,  0.,  0., ...,  0.,  0.,  0.],\n",
       "        [ 0.,  0.,  0., ...,  0.,  0.,  0.]],\n",
       "\n",
       "       [[99., 99., 99., ..., 99., 99., 99.],\n",
       "        [99., 99., 99., ..., 99., 99., 99.],\n",
       "        [99., 99., 99., ..., 99., 99., 99.],\n",
       "        ...,\n",
       "        [99., 99., 99., ..., 99., 99., 99.],\n",
       "        [99., 99., 99., ..., 99., 99., 99.],\n",
       "        [99., 99., 99., ..., 99., 99., 99.]]])"
      ]
     },
     "execution_count": 6,
     "metadata": {},
     "output_type": "execute_result"
    }
   ],
   "source": [
    "#=============== DO NOT DELETE ===============\n",
    "# file = open('/content/highway-config/config_ex1.txt', 'r')\n",
    "# contents = file.read()\n",
    "# config1 = ast.literal_eval(contents)\n",
    "# file.close()\n",
    "# ============================================\n",
    "\n",
    "file = open('./highway-config/config_ex1.txt', 'r')\n",
    "contents = file.read()\n",
    "# print(contents)\n",
    "config1 = ast.literal_eval(contents)\n",
    "file.close()\n",
    "\n",
    "env = gym.make(\"highway-fast-v0\")\n",
    "env.configure(config1)\n",
    "# env = wrap_env(env)\n",
    "env.reset()\n",
    "# env.config"
   ]
  },
  {
   "cell_type": "code",
   "execution_count": 7,
   "id": "eb5e244b-e18b-4ec3-967d-26f2b25508dd",
   "metadata": {},
   "outputs": [],
   "source": [
    "# a = np.max(observation)\n",
    "\n",
    "# while a == 0:\n",
    "#     action = env.action_space.sample()\n",
    "#     observation, reward, done, _ = env.step(action)\n",
    "#     a = np.max(observation)\n",
    "# print(f'np.max(observation): {np.max(observation)}')\n",
    "# print(f'np.min(observation): {np.min(observation)}')    \n",
    "# for i in range(100):\n",
    "#     action = env.action_space.sample()\n",
    "#     observation, reward, done, _ = env.step(action)\n",
    "\n",
    "#     pprint(action)\n",
    "# # pprint(observation)\n",
    "#     print(f'np.max(observation): {np.max(observation)}')\n",
    "#     print(f'np.min(observation): {np.min(observation)}')"
   ]
  },
  {
   "cell_type": "code",
   "execution_count": 8,
   "id": "c06e2ed1-c479-47ad-bbee-a1a4d1f2aa8d",
   "metadata": {},
   "outputs": [
    {
     "data": {
      "text/plain": [
       "(4, 128, 128)"
      ]
     },
     "execution_count": 8,
     "metadata": {},
     "output_type": "execute_result"
    }
   ],
   "source": [
    "env.observation_space.shape"
   ]
  },
  {
   "cell_type": "code",
   "execution_count": 9,
   "id": "6d919a47-82ed-45a0-a69c-6af8f90ef0b4",
   "metadata": {},
   "outputs": [],
   "source": [
    "# del agent"
   ]
  },
  {
   "cell_type": "code",
   "execution_count": null,
   "id": "97a80b27-236d-4ded-aa73-d4b13ae15f7e",
   "metadata": {},
   "outputs": [
    {
     "name": "stdout",
     "output_type": "stream",
     "text": [
      "(10000, 4, 128, 128)\n",
      "4 128 128\n"
     ]
    },
    {
     "name": "stderr",
     "output_type": "stream",
     "text": [
      "/home/jupyter/highway-rl/models/agent.py:58: UserWarning: Creating a tensor from a list of numpy.ndarrays is extremely slow. Please consider converting the list to a single numpy.ndarray with numpy.array() before converting to a tensor. (Triggered internally at  /opt/conda/conda-bld/pytorch_1646755953518/work/torch/csrc/utils/tensor_new.cpp:210.)\n",
      "  state = T.Tensor([observation]).to(self.actor.device)\n",
      "/home/jupyter/highway-rl/models/networks.py:137: UserWarning: Implicit dimension choice for softmax has been deprecated. Change the call to include dim=X as an argument.\n",
      "  prob = F.softmax(prob)\n"
     ]
    },
    {
     "name": "stdout",
     "output_type": "stream",
     "text": [
      "Episode: 0, Best Score 19.050878684176222, Average Score: 19.050878684176222, Top Score: 19.050878684176222\n",
      "action_history: (array([0.        , 0.31818182, 0.27272727, 0.40909091]), array([0, 1, 2, 3, 4]))\n",
      "\n",
      "Episode: 1, Best Score 19.050878684176222, Average Score: 13.622748508541681, Top Score: 19.050878684176222\n",
      "action_history: (array([0.03125, 0.34375, 0.3125 , 0.3125 ]), array([0, 1, 2, 3, 4]))\n",
      "\n",
      "Episode: 2, Best Score 19.050878684176222, Average Score: 14.417367270355035, Top Score: 19.050878684176222\n",
      "action_history: (array([0.06, 0.4 , 0.28, 0.26]), array([0, 1, 2, 3, 4]))\n",
      "\n",
      "Episode: 3, Best Score 33.193585747787495, Average Score: 33.193585747787495, Top Score: 89.52224118008486\n",
      "action_history: (array([0.12048193, 0.31325301, 0.21084337, 0.35542169]), array([0, 1, 2, 3, 4]))\n",
      "\n",
      "Episode: 4, Best Score 33.193585747787495, Average Score: 28.773488750646912, Top Score: 89.52224118008486\n",
      "action_history: (array([0.12290503, 0.30726257, 0.2122905 , 0.3575419 ]), array([0, 1, 2, 3, 4]))\n",
      "\n",
      "Episode: 5, Best Score 33.193585747787495, Average Score: 27.794611062229276, Top Score: 89.52224118008486\n",
      "action_history: (array([0.13333333, 0.29047619, 0.21904762, 0.35714286]), array([0, 1, 2, 3, 4]))\n",
      "\n",
      "Episode: 6, Best Score 33.193585747787495, Average Score: 26.385428406279907, Top Score: 89.52224118008486\n",
      "action_history: (array([0.12121212, 0.2987013 , 0.23376623, 0.34632035]), array([0, 1, 2, 3, 4]))\n",
      "\n",
      "Episode: 7, Best Score 35.70936921083839, Average Score: 35.70936921083839, Top Score: 100.97695484274777\n",
      "action_history: (array([0.08042895, 0.19839142, 0.16353887, 0.55764075]), array([0, 1, 2, 3, 4]))\n",
      "\n",
      "Episode: 8, Best Score 71.33323045529404, Average Score: 71.33323045529404, Top Score: 356.3241204109392\n",
      "action_history: (array([0.03436426, 0.08476518, 0.069874  , 0.81099656]), array([0, 1, 2, 3, 4]))\n",
      "\n",
      "Episode: 9, Best Score 99.5754260598053, Average Score: 99.5754260598053, Top Score: 356.3241204109392\n",
      "action_history: (array([0.02184996, 0.05389658, 0.04442826, 0.8798252 ]), array([0, 1, 2, 3, 4]))\n",
      "\n"
     ]
    }
   ],
   "source": [
    "n_games = 500\n",
    "figure_file = 'plots/highway_500'\n",
    "torch.autograd.set_detect_anomaly(True)\n",
    "# print(env.observation_space.shape)\n",
    "agent = Agent(input_dims=env.observation_space.shape,\n",
    "              env=env,\n",
    "              n_actions=5,\n",
    "              max_size=10000)\n",
    "\n",
    "best_score = env.reward_range[0]\n",
    "top_score = env.reward_range[0]\n",
    "score_history = []\n",
    "load_checkpoint = False\n",
    "action_history = []\n",
    "\n",
    "if load_checkpoint:\n",
    "    agent.load_models()\n",
    "    env.render(mode='human')\n",
    "    \n",
    "for i in range(n_games):\n",
    "    observation = env.reset()\n",
    "    done = False\n",
    "    score = 0\n",
    "    while not done:\n",
    "        action = agent.choose_action(observation)\n",
    "        action_history.append(action)\n",
    "        if np.random.rand() > 0.15:\n",
    "            new_observation, reward, done, info = env.step(action)\n",
    "        else:\n",
    "            new_observation, reward, done, info = env.step(env.action_space.sample())\n",
    "        score += reward\n",
    "        # print(f'observation.shape: {observation.shape}')\n",
    "        agent.remember(observation, action, reward, new_observation, done)\n",
    "        if not load_checkpoint:\n",
    "            agent.learn()\n",
    "        observation = new_observation\n",
    "    score_history.append(score)\n",
    "    avg_score = np.mean(score_history[-100:])\n",
    "    \n",
    "    top_score = max(score, top_score)\n",
    "    if avg_score > best_score:\n",
    "        best_score = avg_score\n",
    "        if not load_checkpoint:\n",
    "            agent.save_models()\n",
    "    \n",
    "    screen = env.render(mode='rgb_array')\n",
    "    plt.imshow(screen)\n",
    "    print(f'Episode: {i}, Best Score {best_score}, Average Score: {avg_score}, Top Score: {top_score}')\n",
    "    print(f'action_history: {np.histogram(action_history, bins=np.arange(5), density=True)}\\n')\n",
    "    \n",
    "if not load_checkpoint:\n",
    "    x = [i+1 for i in range(n_games)]\n",
    "    plot_learning_curve(x, score_history, figure_file)"
   ]
  },
  {
   "cell_type": "code",
   "execution_count": null,
   "id": "7743b86c-61ec-42ef-953d-bb0744002314",
   "metadata": {},
   "outputs": [],
   "source": [
    "if not load_checkpoint:\n",
    "    x = [i+1 for i in range(n_games)]\n",
    "    plot_learning_curve(x, score_history, figure_file)"
   ]
  },
  {
   "cell_type": "code",
   "execution_count": null,
   "id": "5f08b8ba-9594-4501-ae2f-d5d6b4cbdb6b",
   "metadata": {},
   "outputs": [],
   "source": [
    "# env.close()\n",
    "# show_video()"
   ]
  },
  {
   "cell_type": "code",
   "execution_count": null,
   "id": "ee7dd900-f1ec-4329-84bd-8ece5dc41419",
   "metadata": {},
   "outputs": [],
   "source": [
    "class Flatten(nn.Module):\n",
    "    def forward(self, input):\n",
    "        return input.view(input.size(0), -1)\n",
    "\n",
    "    def init_weights(m):\n",
    "        if isinstance(m, nn.Linear):\n",
    "            torch.nn.init.uniform(m.weight,  -3*1.e-4, 3*1.e-4)\n",
    "            m.bias.data.fill_(0.0001)\n",
    "\n",
    "class ActorNet(nn.Module):\n",
    "    def __init__(self):\n",
    "        super(ActorNet, self).__init__()\n",
    "        self.shared_layers = nn.Sequential( # todo: name\n",
    "            nn.Conv2d(4, 32, kernel_size=8, stride=4, padding=0),\n",
    "            nn.ReLU(),\n",
    "            nn.Conv2d(32, 64, kernel_size=4, stride=2, padding=0),\n",
    "            nn.ReLU(),\n",
    "            nn.Conv2d(64, 64, kernel_size=3, stride=1, padding=0),\n",
    "            nn.ReLU(),\n",
    "            nn.Flatten(start_dim=0),\n",
    "            nn.Linear(64*12*12, 5),\n",
    "        )\n",
    "        self.shared_layers.apply(init_weights)\n",
    "\n",
    "    def forward(self, x):\n",
    "        input_tensor = torch.tensor(x, dtype=torch.float)\n",
    "        hidden = self.shared_layers(input_tensor)\n",
    "        #output = self.output(hidden)\n",
    "        actions_probs = Categorical(F.softmax(hidden, dim=-1))\n",
    "\n",
    "        return actions_probs, hidden\n",
    "\n",
    "class CriticNet(nn.Module):\n",
    "    def __init__(self):\n",
    "        super(CriticNet, self).__init__()\n",
    "        self.shared_layers = nn.Sequential(  # todo: name\n",
    "            nn.Conv2d(4, 32, kernel_size=8, stride=4, padding=0),\n",
    "            nn.ReLU(),\n",
    "            nn.Conv2d(32, 64, kernel_size=4, stride=2, padding=0),\n",
    "            nn.ReLU(),\n",
    "            nn.Conv2d(64, 64, kernel_size=3, stride=1, padding=0),\n",
    "            nn.ReLU(),\n",
    "            nn.Flatten(start_dim=0),\n",
    "            nn.Linear(64 * 12 * 12, 1),\n",
    "        )\n",
    "\n",
    "\n",
    "    def forward(self, x):\n",
    "        input_tensor = torch.FloatTensor(x)\n",
    "        hidden = self.shared_layers(input_tensor)\n",
    "\n",
    "        return hidden"
   ]
  },
  {
   "cell_type": "code",
   "execution_count": null,
   "id": "d5914c78-bcd4-498e-be74-5bb539a436ad",
   "metadata": {},
   "outputs": [],
   "source": []
  }
 ],
 "metadata": {
  "environment": {
   "kernel": "python3",
   "name": "pytorch-gpu.1-11.m94",
   "type": "gcloud",
   "uri": "gcr.io/deeplearning-platform-release/pytorch-gpu.1-11:m94"
  },
  "kernelspec": {
   "display_name": "Python 3",
   "language": "python",
   "name": "python3"
  },
  "language_info": {
   "codemirror_mode": {
    "name": "ipython",
    "version": 3
   },
   "file_extension": ".py",
   "mimetype": "text/x-python",
   "name": "python",
   "nbconvert_exporter": "python",
   "pygments_lexer": "ipython3",
   "version": "3.7.12"
  }
 },
 "nbformat": 4,
 "nbformat_minor": 5
}
