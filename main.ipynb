{
 "cells": [
  {
   "cell_type": "code",
   "execution_count": 1,
   "id": "96a0adbc-2f09-46ba-8515-2ac5c501e7bc",
   "metadata": {},
   "outputs": [
    {
     "name": "stderr",
     "output_type": "stream",
     "text": [
      "/opt/conda/lib/python3.7/site-packages/cffi/cparser.py:165: UserWarning: Global variable 'stderr' in cdef(): for consistency with C it should have a storage class specifier (usually 'extern')\n",
      "  \"(usually 'extern')\" % (decl.name,))\n",
      "/opt/conda/lib/python3.7/site-packages/cffi/cparser.py:165: UserWarning: Global variable '__stderrp' in cdef(): for consistency with C it should have a storage class specifier (usually 'extern')\n",
      "  \"(usually 'extern')\" % (decl.name,))\n"
     ]
    }
   ],
   "source": [
    "from cffi import FFI\n",
    "import os\n",
    "\n",
    "ffi = FFI()\n",
    "ffi.cdef(\"\"\"\n",
    "/* from stdio.h */\n",
    "FILE* fopen(const char* path, const char* mode);\n",
    "int fclose(FILE* fp);\n",
    "FILE* stderr;  /* GNU C library */\n",
    "FILE* __stderrp;  /* Mac OS X */\n",
    "\"\"\")\n",
    "try:\n",
    "    stdio = ffi.dlopen(None)\n",
    "    devnull = stdio.fopen(os.devnull.encode(), b'w')\n",
    "except OSError:\n",
    "    pass\n",
    "try:\n",
    "    stdio.stderr = devnull\n",
    "except KeyError:\n",
    "    try:\n",
    "        stdio.__stderrp = devnull\n",
    "    except KeyError:\n",
    "        stdio.fclose(devnull)"
   ]
  },
  {
   "cell_type": "code",
   "execution_count": 2,
   "id": "8ede208d-ad2a-467c-9cbf-9e853f2f6a22",
   "metadata": {},
   "outputs": [
    {
     "name": "stdout",
     "output_type": "stream",
     "text": [
      "pygame 2.1.2 (SDL 2.0.16, Python 3.7.12)\n",
      "Hello from the pygame community. https://www.pygame.org/contribute.html\n"
     ]
    },
    {
     "name": "stderr",
     "output_type": "stream",
     "text": [
      "/opt/conda/lib/python3.7/site-packages/tqdm/auto.py:22: TqdmWarning: IProgress not found. Please update jupyter and ipywidgets. See https://ipywidgets.readthedocs.io/en/stable/user_install.html\n",
      "  from .autonotebook import tqdm as notebook_tqdm\n"
     ]
    }
   ],
   "source": [
    "# General\n",
    "import sys\n",
    "sys.path.insert(0, '/content/highway-env/scripts/')\n",
    "import io\n",
    "import base64\n",
    "import os\n",
    "from tqdm.notebook import trange\n",
    "import numpy as np\n",
    "import random\n",
    "import math\n",
    "import pygame\n",
    "import json\n",
    "import ast\n",
    "from pprint import pprint \n",
    "import glob\n",
    "from collections import Counter\n",
    "import datetime\n",
    "\n",
    "# Local\n",
    "from final_project.display_utils import wrap_env, show_video\n",
    "from models.agent import Agent\n",
    "\n",
    "# Gym Env\n",
    "import gym\n",
    "import highway_env\n",
    "# from utils import record_videos, show_videos\n",
    "from gym import logger as gymlogger\n",
    "from gym.wrappers import Monitor\n",
    "from gym.utils import seeding\n",
    "from gym import error, spaces, utils\n",
    "gymlogger.set_level(40) # error only\n",
    "\n",
    "# Neural Networks\n",
    "import torch\n",
    "import torch.nn as nn\n",
    "import torch.nn.functional as F\n",
    "import torch.optim as optim\n",
    "from torch.distributions import Categorical\n",
    "\n",
    "# Visualization\n",
    "import matplotlib.pyplot as plt\n",
    "from pyvirtualdisplay import Display\n",
    "from IPython.display import HTML\n",
    "from IPython import display as ipythondisplay\n",
    "\n",
    "%load_ext tensorboard\n",
    "%matplotlib inline"
   ]
  },
  {
   "cell_type": "code",
   "execution_count": 3,
   "id": "7fcce6e8-8de5-4385-af5b-54a5a8a12b3e",
   "metadata": {},
   "outputs": [
    {
     "data": {
      "text/plain": [
       "True"
      ]
     },
     "execution_count": 3,
     "metadata": {},
     "output_type": "execute_result"
    }
   ],
   "source": [
    "torch.cuda.is_available()"
   ]
  },
  {
   "cell_type": "code",
   "execution_count": null,
   "id": "ff25834c-dced-45a0-82d8-37255e4bb587",
   "metadata": {},
   "outputs": [
    {
     "name": "stderr",
     "output_type": "stream",
     "text": [
      "/home/jupyter/highway-rl/models/actor_critic_models.py:37: UserWarning: Creating a tensor from a list of numpy.ndarrays is extremely slow. Please consider converting the list to a single numpy.ndarray with numpy.array() before converting to a tensor. (Triggered internally at  /opt/conda/conda-bld/pytorch_1646755953518/work/torch/csrc/utils/tensor_new.cpp:210.)\n",
      "  input_tensor = torch.FloatTensor(x).to(device=self.device)\n"
     ]
    },
    {
     "name": "stdout",
     "output_type": "stream",
     "text": [
      "crashed!! reward was 0.08701671596664544 and now 0.08701671596664544\n",
      "done episode number 0 with sum-rewards 7.47482506631982 after 9 steps actions-counter:Counter({3: 4, 4: 2, 0: 1, 1: 1, 2: 1})\n",
      "not enough data for train 9 values\n",
      "crashed!! reward was 0.06666666666666665 and now 0.06666666666666665\n",
      "done episode number 1 with sum-rewards 48.506067578178815 after 66 steps actions-counter:Counter({4: 52, 1: 6, 3: 6, 2: 2})\n",
      "training on replay buffer of size 37\\75\n",
      "done train episode #1, actor-loss 0.9412235021591187 and critic_loss 0.559138298034668, took 1.018613 seconds\n",
      "crashed!! reward was 0.06666761875061981 and now 0.06666761875061981\n",
      "done episode number 2 with sum-rewards 29.139953168573125 after 39 steps actions-counter:Counter({4: 29, 3: 6, 2: 3, 1: 1})\n",
      "training on replay buffer of size 19\\39\n",
      "done train episode #2, actor-loss 0.5824227333068848 and critic_loss 0.5622296333312988, took 0.517533 seconds\n",
      "crashed!! reward was 0.03333333333333336 and now 0.03333333333333336\n",
      "done episode number 3 with sum-rewards 18.539999987500913 after 27 steps actions-counter:Counter({4: 19, 1: 3, 0: 2, 3: 2, 2: 1})\n",
      "not enough data for train 27 values\n",
      "crashed!! reward was 0.06666666666666665 and now 0.06666666666666665\n",
      "done episode number 4 with sum-rewards 123.8727412321296 after 168 steps actions-counter:Counter({4: 132, 3: 21, 1: 13, 2: 2})\n",
      "training on replay buffer of size 136\\195\n",
      "done train episode #4, actor-loss 0.497947633266449 and critic_loss 0.5415511727333069, took 3.630757 seconds\n",
      "done episode number 5 with sum-rewards 368.1905199253163 after 500 steps actions-counter:Counter({4: 390, 1: 52, 3: 40, 2: 14, 0: 4})\n",
      "training on replay buffer of size 350\\500\n",
      "done train episode #5, actor-loss 0.5536425709724426 and critic_loss 0.5401753187179565, took 8.973972 seconds\n",
      "crashed!! reward was 0.03333333333333336 and now 0.03333333333333336\n",
      "done episode number 6 with sum-rewards 6.745205443174173 after 9 steps actions-counter:Counter({4: 5, 3: 3, 0: 1})\n",
      "not enough data for train 9 values\n",
      "crashed!! reward was 0.06666666666666665 and now 0.06666666666666665\n",
      "done episode number 7 with sum-rewards 79.30867094925584 after 107 steps actions-counter:Counter({4: 82, 3: 13, 1: 11, 2: 1})\n",
      "training on replay buffer of size 58\\116\n",
      "done train episode #7, actor-loss 0.5730347037315369 and critic_loss 0.586667001247406, took 1.52715 seconds\n",
      "crashed!! reward was 0.06666666666666665 and now 0.06666666666666665\n",
      "done episode number 8 with sum-rewards 78.5807390410059 after 102 steps actions-counter:Counter({4: 62, 3: 19, 1: 17, 2: 4})\n",
      "training on replay buffer of size 51\\102\n",
      "done train episode #8, actor-loss 0.6615447402000427 and critic_loss 0.6063362956047058, took 1.308546 seconds\n",
      "done episode number 9 with sum-rewards 372.9952545010622 after 500 steps actions-counter:Counter({4: 366, 1: 66, 3: 45, 2: 18, 0: 5})\n",
      "training on replay buffer of size 350\\500\n",
      "done train episode #9, actor-loss 0.6330478191375732 and critic_loss 0.5685004591941833, took 9.255105 seconds\n",
      "crashed!! reward was 0.11447413304410992 and now 0.11447413304410992\n",
      "done episode number 10 with sum-rewards 38.63419007443629 after 53 steps actions-counter:Counter({4: 37, 3: 6, 1: 5, 2: 4, 0: 1})\n",
      "training on replay buffer of size 26\\53\n",
      "done train episode #10, actor-loss 0.6288609504699707 and critic_loss 0.5179626941680908, took 0.676341 seconds\n",
      "crashed!! reward was 0.014595684170783422 and now 0.014595684170783422\n",
      "done episode number 11 with sum-rewards 4.743745419659031 after 7 steps actions-counter:Counter({4: 4, 0: 2, 3: 1})\n",
      "not enough data for train 7 values\n",
      "crashed!! reward was 0.03333333333333336 and now 0.03333333333333336\n",
      "done episode number 12 with sum-rewards 207.14756993745232 after 294 steps actions-counter:Counter({4: 244, 3: 24, 1: 20, 2: 4, 0: 2})\n",
      "training on replay buffer of size 211\\301\n",
      "done train episode #12, actor-loss 0.40876346826553345 and critic_loss 0.5089371204376221, took 5.909611 seconds\n",
      "done episode number 13 with sum-rewards 381.16631363291697 after 500 steps actions-counter:Counter({4: 375, 3: 67, 1: 44, 2: 12, 0: 2})\n",
      "training on replay buffer of size 350\\500\n",
      "done train episode #13, actor-loss 0.6495526432991028 and critic_loss 0.5872867107391357, took 9.078421 seconds\n",
      "crashed!! reward was 0.03333333333333336 and now 0.03333333333333336\n",
      "done episode number 14 with sum-rewards 7.9879381080612655 after 12 steps actions-counter:Counter({4: 7, 0: 2, 1: 1, 3: 1, 2: 1})\n",
      "not enough data for train 12 values\n",
      "crashed!! reward was 0.13953235283859988 and now 0.13953235283859988\n",
      "done episode number 15 with sum-rewards 220.49028850961818 after 293 steps actions-counter:Counter({4: 208, 3: 39, 1: 38, 2: 6, 0: 2})\n",
      "training on replay buffer of size 214\\305\n",
      "done train episode #15, actor-loss 0.5711951851844788 and critic_loss 0.5660896897315979, took 5.901682 seconds\n",
      "crashed!! reward was 0.12768280213823635 and now 0.12768280213823635\n",
      "done episode number 16 with sum-rewards 59.30604753490289 after 82 steps actions-counter:Counter({4: 61, 3: 7, 1: 6, 2: 6, 0: 2})\n",
      "training on replay buffer of size 41\\82\n",
      "done train episode #16, actor-loss 0.33916985988616943 and critic_loss 0.5459232330322266, took 1.075782 seconds\n",
      "done episode number 17 with sum-rewards 377.54759862260437 after 500 steps actions-counter:Counter({4: 358, 1: 66, 3: 56, 2: 16, 0: 4})\n",
      "training on replay buffer of size 350\\500\n",
      "done train episode #17, actor-loss 0.5997817516326904 and critic_loss 0.5865353941917419, took 9.434371 seconds\n",
      "crashed!! reward was 0.10356648070831224 and now 0.10356648070831224\n",
      "done episode number 18 with sum-rewards 51.35614749796897 after 70 steps actions-counter:Counter({4: 57, 1: 6, 3: 4, 2: 3})\n",
      "training on replay buffer of size 35\\70\n",
      "done train episode #18, actor-loss 0.448311448097229 and critic_loss 0.5755809545516968, took 0.951838 seconds\n"
     ]
    }
   ],
   "source": [
    "agent = Agent()\n",
    "agent.play()"
   ]
  },
  {
   "cell_type": "code",
   "execution_count": null,
   "id": "dbffd8b5-4530-4ff5-8605-f195d0a3b294",
   "metadata": {},
   "outputs": [],
   "source": []
  },
  {
   "cell_type": "code",
   "execution_count": null,
   "id": "958b2f1c-1c99-4d4f-93bc-8b893300c251",
   "metadata": {},
   "outputs": [],
   "source": []
  },
  {
   "cell_type": "code",
   "execution_count": null,
   "id": "6aa8d835-f831-474d-ad6a-97d4ef062186",
   "metadata": {},
   "outputs": [],
   "source": []
  }
 ],
 "metadata": {
  "environment": {
   "kernel": "python3",
   "name": "pytorch-gpu.1-11.m94",
   "type": "gcloud",
   "uri": "gcr.io/deeplearning-platform-release/pytorch-gpu.1-11:m94"
  },
  "kernelspec": {
   "display_name": "Python 3",
   "language": "python",
   "name": "python3"
  },
  "language_info": {
   "codemirror_mode": {
    "name": "ipython",
    "version": 3
   },
   "file_extension": ".py",
   "mimetype": "text/x-python",
   "name": "python",
   "nbconvert_exporter": "python",
   "pygments_lexer": "ipython3",
   "version": "3.7.12"
  }
 },
 "nbformat": 4,
 "nbformat_minor": 5
}
